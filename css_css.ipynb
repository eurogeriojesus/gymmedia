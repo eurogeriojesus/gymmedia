{
  "nbformat": 4,
  "nbformat_minor": 0,
  "metadata": {
    "colab": {
      "provenance": []
    },
    "kernelspec": {
      "name": "python3",
      "display_name": "Python 3"
    },
    "language_info": {
      "name": "python"
    }
  },
  "cells": [
    {
      "cell_type": "code",
      "execution_count": 3,
      "metadata": {
        "colab": {
          "base_uri": "https://localhost:8080/",
          "height": 106
        },
        "id": "Z4cM2KTPGMCI",
        "outputId": "88dee2d9-4a48-4d30-a5c4-6fcac1b5a617"
      },
      "outputs": [
        {
          "output_type": "error",
          "ename": "SyntaxError",
          "evalue": "invalid decimal literal (<ipython-input-3-ee68b861d743>, line 10)",
          "traceback": [
            "\u001b[0;36m  File \u001b[0;32m\"<ipython-input-3-ee68b861d743>\"\u001b[0;36m, line \u001b[0;32m10\u001b[0m\n\u001b[0;31m    max-width: 1200px; /* Corrected: removed extra space before \"px\" */\u001b[0m\n\u001b[0m                  ^\u001b[0m\n\u001b[0;31mSyntaxError\u001b[0m\u001b[0;31m:\u001b[0m invalid decimal literal\n"
          ]
        }
      ],
      "source": [
        "/* Estilos CSS aqui */\n",
        "body {\n",
        "  font-family: 'Poppins', sans-serif; /* Usando a fonte Poppins */\n",
        "  margin: 0;\n",
        "  padding: 0;\n",
        "  background-color: #03fff6; /* Cor de fundo padrão */\n",
        "}\n",
        "\n",
        ".container {\n",
        "  max-width: 1200px; /* Corrected: removed extra space before \"px\" */\n",
        "  margin: 0 auto;\n",
        "  padding: 20px;\n",
        "}\n",
        "\n",
        "header {\n",
        "  background-color: #381f59; /* Cor principal da Gym Media */\n",
        "  color: #fff;\n",
        "  padding: 10px;\n",
        "  text-align: center;\n",
        "}\n",
        "\n",
        "nav {\n",
        "  text-align: center;\n",
        "  margin-bottom: 20px;\n",
        "}\n",
        "\n",
        "nav a {\n",
        "  color: #fff;\n",
        "  text-decoration: none;\n",
        "  margin: 0 10px;\n",
        "}\n",
        "\n",
        ".banner {\n",
        "  background-color: #00cfc8; /* Cor secundária da Gym Media */\n",
        "  color: #fff;\n",
        "  text-align: center;\n",
        "  padding: 50px 0;\n",
        "}\n",
        "\n",
        ".block {\n",
        "  padding: 20px;\n",
        "  margin-bottom: 20px;\n",
        "  background-color: #502c7f; /* Cor terciária da Gym Media */\n",
        "  color: #fff;\n",
        "}\n",
        "\n",
        ".block h2 {\n",
        "  margin-top: 0;\n",
        "}\n",
        "\n",
        "/* Estilos específicos para dispositivos móveis */\n",
        "@media screen and (max-width: 600px) {\n",
        "  .container {\n",
        "    padding: 10px;\n",
        "  }\n",
        "  .banner {\n",
        "    padding: 30px 0;\n",
        "  }\n",
        "  .block {\n",
        "    padding: 10px;\n",
        "  }\n",
        "}"
      ]
    }
  ]
}